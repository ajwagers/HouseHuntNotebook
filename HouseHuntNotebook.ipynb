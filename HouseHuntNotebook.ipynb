{
 "cells": [
  {
   "cell_type": "code",
   "execution_count": null,
   "metadata": {},
   "outputs": [],
   "source": [
    "import pandas as pd\n",
    "import matplotlib.pyplot as plt\n",
    "import numpy as np\n",
    "import math as math\n",
    "\n",
    "%matplotlib inline\n",
    "pd.options.mode.chained_assignment = None  # default='warn'"
   ]
  },
  {
   "cell_type": "code",
   "execution_count": null,
   "metadata": {},
   "outputs": [],
   "source": [
    "\n",
    "csv1_path = '[Put path to file #1 here.]'\n",
    "csv2_path = '[Put path to file #2 here.]'\n",
    "csv3_path = '[Put path to file #3 here.]'\n",
    "csv4_path = '[Put path to file #4 here.]'\n",
    "csv5_path = '[Put path to file #5 here.]'\n",
    "csv6_path = '[Put path to file #6 here.]'\n",
    "\n",
    "prop_df1 = pd.read_csv(csv1_path)\n",
    "prop_df2 = pd.read_csv(csv2_path)\n",
    "prop_df3 = pd.read_csv(csv3_path)\n",
    "prop_df4 = pd.read_csv(csv4_path)\n",
    "prop_df5 = pd.read_csv(csv5_path)\n",
    "prop_df6 = pd.read_csv(csv6_path)\n",
    "\n",
    "prop_df1.head(3)"
   ]
  },
  {
   "cell_type": "code",
   "execution_count": null,
   "metadata": {},
   "outputs": [],
   "source": [
    "prop_df = pd.concat([prop_df1, prop_df2])\n",
    "prop_df = pd.concat([prop_df, prop_df3])\n",
    "prop_df = pd.concat([prop_df, prop_df4])\n",
    "prop_df = pd.concat([prop_df, prop_df5])\n",
    "prop_df = pd.concat([prop_df, prop_df6])\n",
    "prop_df.shape"
   ]
  },
  {
   "cell_type": "code",
   "execution_count": null,
   "metadata": {},
   "outputs": [],
   "source": [
    "prop_df.columns"
   ]
  },
  {
   "cell_type": "code",
   "execution_count": null,
   "metadata": {},
   "outputs": [],
   "source": [
    "prop_df.rename(index=str, columns={'$/SQUARE FEET':'PRICE PER SQFT',\n",
    "                                  'HOA/MONTH':'HOA PER MONTH',\n",
    "                                  'URL (SEE https://www.redfin.com/buy-a-home/comparative-market-analysis FOR INFO ON PRICING)':'URL',\n",
    "                                  'MLS#':'MLS'}, inplace=True)\n",
    "prop_df.columns\n",
    "#set(prop_df['PROPERTY TYPE'])"
   ]
  },
  {
   "cell_type": "code",
   "execution_count": null,
   "metadata": {},
   "outputs": [],
   "source": [
    "# explore distribution of numeric columns\n",
    "ax_list = prop_df.hist(bins=25, layout=(4,4), figsize=(15,15))"
   ]
  },
  {
   "cell_type": "code",
   "execution_count": null,
   "metadata": {},
   "outputs": [],
   "source": [
    "# drop rows with missing values in critical columns\n",
    "prop_df_nona = prop_df.dropna(axis=0, how='any', # if any of these cols are empty, remove row\n",
    "                              subset=['LATITUDE','LONGITUDE'])\n",
    "                              #subset=['BEDS','BATHS', 'PRICE', 'LATITUDE','LONGITUDE','SQUARE FEET'])\n",
    "prop_df_nona['HOA PER MONTH'].fillna(value=0, inplace=True)\n",
    "prop_df_nona.shape\n",
    "#set(prop_df_nona['PROPERTY TYPE'])"
   ]
  },
  {
   "cell_type": "code",
   "execution_count": null,
   "metadata": {},
   "outputs": [],
   "source": [
    "# explore distribution of numeric columns\n",
    "ax_list = prop_df_nona.hist(bins=25, layout=(4,4), figsize=(15,15))"
   ]
  },
  {
   "cell_type": "code",
   "execution_count": null,
   "metadata": {},
   "outputs": [],
   "source": [
    "prop_df_nona.describe().round(3)"
   ]
  },
  {
   "cell_type": "code",
   "execution_count": null,
   "metadata": {},
   "outputs": [],
   "source": [
    "prop_df_nona.to_csv('houses_for_sale_filtered.csv')"
   ]
  },
  {
   "cell_type": "code",
   "execution_count": null,
   "metadata": {},
   "outputs": [],
   "source": [
    "filtered_df = prop_df_nona[(prop_df_nona['PRICE']<=200000) &\n",
    "                       (prop_df_nona['LOT SIZE']>=20000) & \n",
    "                        ((prop_df_nona['PROPERTY TYPE'] == 'Vacant Land') | \n",
    "                         (prop_df_nona['PROPERTY TYPE'] == 'Single Family Residential') |\n",
    "                         (prop_df_nona['PROPERTY TYPE'] == 'Mobile/Manufactured Home'))]\n",
    "filtered_df.shape"
   ]
  },
  {
   "cell_type": "code",
   "execution_count": null,
   "metadata": {},
   "outputs": [],
   "source": [
    "ax_list2 = filtered_df.hist(bins=25, layout=(4,4), figsize=(15,15))"
   ]
  },
  {
   "cell_type": "code",
   "execution_count": null,
   "metadata": {},
   "outputs": [],
   "source": [
    "filtered_df.head(9)"
   ]
  },
  {
   "cell_type": "code",
   "execution_count": null,
   "metadata": {},
   "outputs": [],
   "source": [
    "filtered_df.to_csv('houses_for_sale_selected.csv')"
   ]
  },
  {
   "cell_type": "code",
   "execution_count": null,
   "metadata": {},
   "outputs": [],
   "source": [
    "pricemax = np.max(filtered_df['PRICE'])\n",
    "pricemin = np.min(filtered_df['PRICE'])\n",
    "priceoff = filtered_df['PRICE'] - pricemin\n",
    "pricescore = 1 - priceoff/np.max(priceoff)\n",
    "bedsscore = filtered_df['BEDS']/4\n",
    "sqftscore = filtered_df['SQUARE FEET']/np.max(filtered_df['SQUARE FEET'])\n",
    "\n",
    "lotmax = np.max(filtered_df['LOT SIZE'])\n",
    "lotmin = np.min(filtered_df['LOT SIZE'])\n",
    "lotscore = 2*filtered_df['LOT SIZE']/lotmax\n",
    "\n",
    "Re = 6371000 #radius of the Earth\n",
    "worklatt = 41.948463 #work latitude\n",
    "worklong = -87.655800 #work longitude\n",
    "churchlatt = 42.36643289381998 #church latitude\n",
    "churchlong =  -71.0544051307879 #church longitude\n",
    "oldhouselatt = 37.62844044850603 #old house latitude\n",
    "oldhouselong = -85.63519131337189 #old house longitude\n",
    "\n",
    "work_x_dist = (filtered_df['LONGITUDE']*np.pi/180 - worklong*np.pi/180)*np.cos((filtered_df['LATITUDE']-worklatt)*np.pi/360)\n",
    "work_y_dist = (filtered_df['LATITUDE'] - worklatt)*np.pi/180\n",
    "workdist = np.sqrt(work_x_dist*work_x_dist + work_y_dist*work_y_dist)*Re\n",
    "workdistmax = np.max(workdist)\n",
    "workdistmin = np.min(workdist)\n",
    "workdistscore = 1-workdist/workdistmax\n",
    "\n",
    "church_x_dist = (filtered_df['LONGITUDE']*np.pi/180 - churchlong*np.pi/180)*np.cos((filtered_df['LATITUDE']-churchlatt)*np.pi/360)\n",
    "church_y_dist = (filtered_df['LATITUDE'] - churchlatt)*np.pi/180\n",
    "churchdist = np.sqrt(church_x_dist*church_x_dist + church_y_dist*church_y_dist)*Re\n",
    "churchdistmax = np.max(churchdist)\n",
    "churchdistmin = np.min(churchdist)\n",
    "churchdistscore = 1-churchdist/churchdistmax\n",
    "\n",
    "oldhouse_x_dist = (filtered_df['LONGITUDE']*np.pi/180 - oldhouselong*np.pi/180)*np.cos((filtered_df['LATITUDE']-oldhouselatt)*np.pi/360)\n",
    "oldhouse_y_dist = (filtered_df['LATITUDE'] - oldhouselatt)*np.pi/180\n",
    "oldhousedist = np.sqrt(oldhouse_x_dist*oldhouse_x_dist + oldhouse_y_dist*oldhouse_y_dist)*Re\n",
    "oldhousedistmax = np.max(oldhousedist)\n",
    "oldhousedistmin = np.min(oldhousedist)\n",
    "oldhousedistscore = 1-oldhousedist/oldhousedistmax\n",
    "\n",
    "overalldist = np.array([[workdistscore],[churchdistscore],[oldhousedistscore]])\n",
    "overalldistscore = pd.DataFrame(index=range(9),columns=range(0))\n",
    "overalldistscore_trans = np.mean(overalldist,axis=0).T\n",
    "overalldistscore = 4*overalldistscore_trans.reshape(-1)\n",
    "#print(2*overalldistscore.reshape(-1))\n",
    "#overalldistscore = 4*workdistscore\n",
    "\n",
    "overallscore_dist = np.array([[pricescore],[lotscore],[overalldistscore]])\n",
    "overallscore_trans = np.mean(overallscore_dist,axis=0).T\n",
    "overallscore = overallscore_trans.reshape(-1)"
   ]
  },
  {
   "cell_type": "code",
   "execution_count": null,
   "metadata": {},
   "outputs": [],
   "source": [
    "filtered_df.loc[:,'PRICE SCORE'] = pd.Series(pricescore, index=filtered_df.index)\n",
    "filtered_df.loc[:,'BEDS SCORE'] = pd.Series(bedsscore, index=filtered_df.index)\n",
    "#filtered_df.loc[:,'BATHS SCORE'] = pd.Series(bathscore, index=filtered_df.index)\n",
    "filtered_df.loc[:,'SQ. FT. SCORE'] = pd.Series(sqftscore, index=filtered_df.index)\n",
    "filtered_df.loc[:,'LOT SCORE'] = pd.Series(lotscore, index=filtered_df.index)\n",
    "filtered_df.loc[:,'WORK DIST SCORE'] = pd.Series(workdistscore, index=filtered_df.index)\n",
    "filtered_df.loc[:,'CHURCH DIST SCORE'] = pd.Series(churchdistscore, index=filtered_df.index)\n",
    "filtered_df.loc[:,'OLD HOUSE DIST SCORE'] = pd.Series(oldhousedistscore, index=filtered_df.index)\n",
    "#filtered_df.loc[:,'OVERALL DIST SCORE'] = pd.Series(overalldistscore, index=filtered_df.index)\n",
    "filtered_df.loc[:,'OVERALL SCORE'] = pd.Series(overallscore, index=filtered_df.index)"
   ]
  },
  {
   "cell_type": "code",
   "execution_count": null,
   "metadata": {},
   "outputs": [],
   "source": [
    "filtered_df.head(9)"
   ]
  },
  {
   "cell_type": "code",
   "execution_count": null,
   "metadata": {},
   "outputs": [],
   "source": [
    "filtered_df.to_csv('houses_for_sale_scored.csv')"
   ]
  },
  {
   "cell_type": "code",
   "execution_count": null,
   "metadata": {},
   "outputs": [],
   "source": []
  },
  {
   "cell_type": "code",
   "execution_count": null,
   "metadata": {},
   "outputs": [],
   "source": []
  }
 ],
 "metadata": {
  "kernelspec": {
   "display_name": "Python 3",
   "language": "python",
   "name": "python3"
  },
  "language_info": {
   "codemirror_mode": {
    "name": "ipython",
    "version": 3
   },
   "file_extension": ".py",
   "mimetype": "text/x-python",
   "name": "python",
   "nbconvert_exporter": "python",
   "pygments_lexer": "ipython3",
   "version": "3.7.1"
  }
 },
 "nbformat": 4,
 "nbformat_minor": 2
}
